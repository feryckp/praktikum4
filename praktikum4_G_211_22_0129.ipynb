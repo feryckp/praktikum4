{
  "nbformat": 4,
  "nbformat_minor": 0,
  "metadata": {
    "colab": {
      "private_outputs": true,
      "provenance": []
    },
    "kernelspec": {
      "name": "python3",
      "display_name": "Python 3"
    },
    "language_info": {
      "name": "python"
    }
  },
  "cells": [
    {
      "cell_type": "code",
      "source": [
        "def checkPangram(s):\n",
        "    List = []\n",
        "# create list of 26 characters and set false each entry\n",
        "    for i in range(26):\n",
        "        List.append(False)\n",
        " # converting the sentence to lowercase and iterating\n",
        " # over the sentence\n",
        "    for c in s.lower():\n",
        "        if not c == \" \":\n",
        " # make the corresponding entry True\n",
        "             List[ord(c) - ord('a')] = True\n",
        " # check if any character is missing then return False\n",
        "    for ch in List:\n",
        "        if ch == False:\n",
        "            return False\n",
        "    return True\n",
        "# Driver Program to test above functions\n",
        "sentence = \"The quick brown fox jumps over the little lazy dog\"\n",
        "if (checkPangram(sentence)):\n",
        "    print('\"'+sentence+'\"')\n",
        "    print(\"\\nis a pangram\")\n",
        "else:\n",
        "    print('\"'+sentence+'\"')\n",
        "    print(\"\\nis not a pangram\")"
      ],
      "metadata": {
        "id": "GBjM2KESInaZ"
      },
      "execution_count": null,
      "outputs": []
    }
  ]
}